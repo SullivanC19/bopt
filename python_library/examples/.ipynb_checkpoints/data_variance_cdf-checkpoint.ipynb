{
 "cells": [
  {
   "cell_type": "code",
   "execution_count": 27,
   "metadata": {},
   "outputs": [],
   "source": [
    "from sklearn.svm import SVC\n",
    "from sklearn.datasets import load_iris, load_digits, fetch_openml\n",
    "from sklearn.model_selection import train_test_split, cross_validate, GridSearchCV, StratifiedKFold\n",
    "from sklearn.preprocessing import OneHotEncoder, OrdinalEncoder, LabelBinarizer, KBinsDiscretizer, Binarizer\n",
    "from sklearn.metrics import accuracy_score\n",
    "from sklearn.ensemble import AdaBoostClassifier, RandomForestClassifier, GradientBoostingClassifier\n",
    "from sklearn.tree import DecisionTreeClassifier, export_graphviz\n",
    "from sklearn.utils import check_random_state\n",
    "from dl85 import DL85Boostera, DL85Classifier\n",
    "import time\n",
    "import numpy as np\n",
    "from sklearn.metrics import confusion_matrix\n",
    "import subprocess\n",
    "import matplotlib.pyplot as plt\n",
    "from scipy import stats\n",
    "\n",
    "depth, time_limit, N_FOLDS = 2, 0, 5\n",
    "\n",
    "# dataset = np.genfromtxt(\"../datasets/paper_test.txt\", delimiter=\" \")\n",
    "dataset = np.genfromtxt(\"../datasets/breast-wisconsin.txt\", delimiter=\" \")\n",
    "# dataset = np.genfromtxt(\"../datasets/kr-vs-kp.txt\", delimiter=\" \")\n",
    "#dataset = np.genfromtxt(\"../datasets/audiology.txt\", delimiter=\" \")\n",
    "X, y = dataset[:, 1:], dataset[:, 0]\n",
    "X_train, X_test, y_train, y_test = train_test_split(X, y, test_size=0.2, random_state=0)\n",
    "\n",
    "def plot_cdf(clf):\n",
    "    print(\"train_score :\", accuracy_score(y_train, clf.predict(X_train)))\n",
    "    print(\"n_trees :\", len(clf.estimators_))\n",
    "    print(\"test_score :\", accuracy_score(y_test, clf.predict(X_test)))\n",
    "    \n",
    "    sw = sum(clf.estimator_weights_)\n",
    "\n",
    "    pred = np.array([-clf.estimator_weights_[0]/sw if p != y_train[i] else clf.estimator_weights_[0]/sw for i, p in enumerate(clf.estimators_[0].predict(X_train))])\n",
    "    margin = pred.reshape((-1, 1))\n",
    "\n",
    "    for i in range(1, len(clf.estimators_)):\n",
    "        pred = np.array([-clf.estimator_weights_[i]/sw if p != y_train[j] else clf.estimator_weights_[i]/sw for j, p in enumerate(clf.estimators_[i].predict(X_train))])\n",
    "        margin = np.concatenate((margin, pred.reshape(-1, 1)), axis=1)\n",
    "\n",
    "    margins = np.sum(margin, axis=1)\n",
    "    #plt.hist(marginss, bins='auto')\n",
    "    #print(stats.describe(marginss))\n",
    "    hx, hy = np.histogram(margins, bins='auto', normed=1)\n",
    "    dx = hy[1] - hy[0]\n",
    "    F1 = np.cumsum(hx)*dx\n",
    "    plt.plot(hy[1:], F1)\n",
    "    print(\"Margins description :\", stats.describe(margins))\n",
    "\n",
    "max_iter = 27\n",
    "\n",
    "#np.histogram(margins)\n",
    "\n",
    "#X2 = np.sort(marginss)\n",
    "#F2 = np.array(range(len(marginss)))/float(len(marginss))\n",
    "#F2 = 1. * np.arange(len(marginss)) / (len(margins) - 1)\n",
    "#plt.plot(X2, F2)\n",
    "\n",
    "#from scipy.stats import norm\n",
    "#x = np.linspace(-1,1,len(marginss))\n",
    "#y = norm.cdf(marginss)\n",
    "#plt.plot(marginss, y)\n",
    "\n",
    "\n",
    "#marginss = np.sum(margins[:,:2], axis=1)\n",
    "#plt.hist(marginss, bins='auto')\n",
    "#print(stats.describe(marginss))\n",
    "\n",
    "# audiology 80% - 20% random_state=0 regulator=10 n_trees=27 depth=2"
   ]
  },
  {
   "cell_type": "markdown",
   "metadata": {},
   "source": [
    "### Adaboost"
   ]
  },
  {
   "cell_type": "code",
   "execution_count": 28,
   "metadata": {},
   "outputs": [
    {
     "name": "stdout",
     "output_type": "stream",
     "text": [
      "train_score : 1.0\n",
      "n_trees : 27\n",
      "test_score : 0.948905109489051\n",
      "Margins description : DescribeResult(nobs=546, minmax=(-0.3333333333333333, 0.6296296296296295), mean=0.2813729480396147, variance=0.038824971524031436, skewness=-1.0332371648273329, kurtosis=0.282737633658122)\n"
     ]
    },
    {
     "name": "stderr",
     "output_type": "stream",
     "text": [
      "/Library/Frameworks/Python.framework/Versions/3.6/lib/python3.6/site-packages/ipykernel_launcher.py:43: VisibleDeprecationWarning: Passing `normed=True` on non-uniform bins has always been broken, and computes neither the probability density function nor the probability mass function. The result is only correct if the bins are uniform, when density=True will produce the same result anyway. The argument will be removed in a future version of numpy.\n"
     ]
    },
    {
     "data": {
      "image/png": "[encoded data removed]",
      "text/plain": [
       "<Figure size 432x288 with 1 Axes>"
      ]
     },
     "metadata": {
      "needs_background": "light"
     },
     "output_type": "display_data"
    }
   ],
   "source": [
    "clf = AdaBoostClassifier(base_estimator=DecisionTreeClassifier(max_depth=depth), n_estimators=max_iter)\n",
    "clf.fit(X_train, y_train)\n",
    "plot_cdf(clf)"
   ]
  },
  {
   "cell_type": "markdown",
   "metadata": {},
   "source": [
    "### AdaDL85"
   ]
  },
  {
   "cell_type": "code",
   "execution_count": 23,
   "metadata": {},
   "outputs": [
    {
     "name": "stdout",
     "output_type": "stream",
     "text": [
      "0.9230769230769231\n",
      "27\n",
      "0.9562043795620438\n",
      "DescribeResult(nobs=546, minmax=(-0.9259259259259258, 0.9999999999999998), mean=-0.5514855514855515, variance=0.1715593979270499, skewness=3.019068053334399, kurtosis=7.554702730605923)\n"
     ]
    },
    {
     "name": "stderr",
     "output_type": "stream",
     "text": [
      "/Library/Frameworks/Python.framework/Versions/3.6/lib/python3.6/site-packages/ipykernel_launcher.py:43: VisibleDeprecationWarning: Passing `normed=True` on non-uniform bins has always been broken, and computes neither the probability density function nor the probability mass function. The result is only correct if the bins are uniform, when density=True will produce the same result anyway. The argument will be removed in a future version of numpy.\n"
     ]
    },
    {
     "data": {
      "image/png": "[encoded data removed]",
      "text/plain": [
       "<Figure size 432x288 with 1 Axes>"
      ]
     },
     "metadata": {
      "needs_background": "light"
     },
     "output_type": "display_data"
    }
   ],
   "source": [
    "clf = AdaBoostClassifier(base_estimator=DL85Classifier(max_depth=depth), n_estimators=max_iter)\n",
    "clf.fit(X_train, y_train)\n",
    "plot_cdf(clf)"
   ]
  },
  {
   "cell_type": "markdown",
   "metadata": {},
   "source": [
    "### MDBoost"
   ]
  },
  {
   "cell_type": "code",
   "execution_count": 24,
   "metadata": {},
   "outputs": [
    {
     "name": "stdout",
     "output_type": "stream",
     "text": [
      "0.9688644688644689\n",
      "10\n",
      "0.9635036496350365\n",
      "DescribeResult(nobs=546, minmax=(-0.9775204085467681, 1.0000000000000002), mean=0.926126149247828, variance=0.07757151847450493, skewness=-4.964124032083938, kurtosis=25.54198260956217)\n"
     ]
    },
    {
     "name": "stderr",
     "output_type": "stream",
     "text": [
      "/Library/Frameworks/Python.framework/Versions/3.6/lib/python3.6/site-packages/ipykernel_launcher.py:43: VisibleDeprecationWarning: Passing `normed=True` on non-uniform bins has always been broken, and computes neither the probability density function nor the probability mass function. The result is only correct if the bins are uniform, when density=True will produce the same result anyway. The argument will be removed in a future version of numpy.\n"
     ]
    },
    {
     "data": {
      "image/png": "[encoded data removed]",
      "text/plain": [
       "<Figure size 432x288 with 1 Axes>"
      ]
     },
     "metadata": {
      "needs_background": "light"
     },
     "output_type": "display_data"
    }
   ],
   "source": [
    "clf = DL85Boostera(max_depth=depth, regulator=1)\n",
    "clf.fit(X_train, y_train)\n",
    "plot_cdf(clf)"
   ]
  },
  {
   "cell_type": "markdown",
   "metadata": {},
   "source": [
    "### LPBoost DEMIRIZ"
   ]
  },
  {
   "cell_type": "code",
   "execution_count": 29,
   "metadata": {},
   "outputs": [
    {
     "name": "stdout",
     "output_type": "stream",
     "text": [
      "train_score : 1.0\n",
      "n_trees : 45\n",
      "test_score : 0.9562043795620438\n",
      "Margins description : DescribeResult(nobs=546, minmax=(0.18596783398105723, 0.7221365672630057), mean=0.47518457700195854, variance=0.028742189880394602, skewness=-0.2375519964162498, kurtosis=-1.1400168897061864)\n"
     ]
    },
    {
     "name": "stderr",
     "output_type": "stream",
     "text": [
      "/Library/Frameworks/Python.framework/Versions/3.6/lib/python3.6/site-packages/ipykernel_launcher.py:43: VisibleDeprecationWarning: Passing `normed=True` on non-uniform bins has always been broken, and computes neither the probability density function nor the probability mass function. The result is only correct if the bins are uniform, when density=True will produce the same result anyway. The argument will be removed in a future version of numpy.\n"
     ]
    },
    {
     "data": {
      "image/png": "[encoded data removed]",
      "text/plain": [
       "<Figure size 432x288 with 1 Axes>"
      ]
     },
     "metadata": {
      "needs_background": "light"
     },
     "output_type": "display_data"
    }
   ],
   "source": [
    "clf = DL85Booster(max_depth=depth, regulator=1, model=MODEL_DEMIRIZ)\n",
    "clf.fit(X_train, y_train)\n",
    "plot_cdf(clf)"
   ]
  },
  {
   "cell_type": "markdown",
   "metadata": {},
   "source": [
    "### LPBoost RATSCH"
   ]
  },
  {
   "cell_type": "code",
   "execution_count": 30,
   "metadata": {},
   "outputs": [
    {
     "name": "stdout",
     "output_type": "stream",
     "text": [
      "train_score : 1.0\n",
      "n_trees : 39\n",
      "test_score : 0.9635036496350365\n",
      "Margins description : DescribeResult(nobs=546, minmax=(0.16240272507794729, 0.7750328104923697), mean=0.4466297872646972, variance=0.023569860529136035, skewness=-0.5362497174077603, kurtosis=-0.8581316430655477)\n"
     ]
    },
    {
     "name": "stderr",
     "output_type": "stream",
     "text": [
      "/Library/Frameworks/Python.framework/Versions/3.6/lib/python3.6/site-packages/ipykernel_launcher.py:43: VisibleDeprecationWarning: Passing `normed=True` on non-uniform bins has always been broken, and computes neither the probability density function nor the probability mass function. The result is only correct if the bins are uniform, when density=True will produce the same result anyway. The argument will be removed in a future version of numpy.\n"
     ]
    },
    {
     "data": {
      "image/png": "[encoded data removed]",
      "text/plain": [
       "<Figure size 432x288 with 1 Axes>"
      ]
     },
     "metadata": {
      "needs_background": "light"
     },
     "output_type": "display_data"
    }
   ],
   "source": [
    "clf = DL85Booster(max_depth=depth, regulator=1, model=MODEL_RATSCH)\n",
    "clf.fit(X_train, y_train)\n",
    "plot_cdf(clf)"
   ]
  }
 ],
 "metadata": {
  "kernelspec": {
   "display_name": "Python 3",
   "language": "python",
   "name": "python3"
  },
  "language_info": {
   "codemirror_mode": {
    "name": "ipython",
    "version": 3
   },
   "file_extension": ".py",
   "mimetype": "text/x-python",
   "name": "python",
   "nbconvert_exporter": "python",
   "pygments_lexer": "ipython3",
   "version": "3.6.5"
  }
 },
 "nbformat": 4,
 "nbformat_minor": 4
}
