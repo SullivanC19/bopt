{
 "cells": [
  {
   "cell_type": "code",
   "execution_count": 64,
   "metadata": {},
   "outputs": [],
   "source": [
    "from sklearn.svm import SVC\n",
    "from sklearn.datasets import load_iris, load_digits, fetch_openml\n",
    "from sklearn.model_selection import train_test_split, cross_validate, GridSearchCV, StratifiedKFold\n",
    "from sklearn.preprocessing import OneHotEncoder, OrdinalEncoder, LabelBinarizer, KBinsDiscretizer, Binarizer\n",
    "from sklearn.metrics import accuracy_score\n",
    "from sklearn.ensemble import AdaBoostClassifier, RandomForestClassifier, GradientBoostingClassifier\n",
    "from sklearn.tree import DecisionTreeClassifier, export_graphviz\n",
    "from sklearn.utils import check_random_state\n",
    "from dl85 import DL85Boostera, DL85Classifier, DL85Booster, MODEL_DEMIRIZ, MODEL_RATSCH, MODEL_AGLIN\n",
    "import time\n",
    "import numpy as np\n",
    "from sklearn.metrics import confusion_matrix\n",
    "import subprocess\n",
    "import matplotlib.pyplot as plt\n",
    "from scipy import stats\n",
    "\n",
    "depth, time_limit, N_FOLDS = 2, 0, 5\n",
    "\n",
    "# dataset = np.genfromtxt(\"../datasets/paper_test.txt\", delimiter=\" \")\n",
    "#dataset = np.genfromtxt(\"../datasets/breast-wisconsin.txt\", delimiter=\" \")\n",
    "dataset = np.genfromtxt(\"../datasets/primary-tumor.txt\", delimiter=\" \")\n",
    "# dataset = np.genfromtxt(\"../datasets/kr-vs-kp.txt\", delimiter=\" \")\n",
    "#dataset = np.genfromtxt(\"../datasets/audiology.txt\", delimiter=\" \")\n",
    "#dataset = np.genfromtxt(\"../datasets/heart-cleveland.txt\", delimiter=\" \")\n",
    "#dataset = np.genfromtxt(\"../datasets/boosting/mm/matchmaker.txt\", delimiter=\" \")\n",
    "X, y = dataset[:, 1:], dataset[:, 0]\n",
    "kf = StratifiedKFold(n_splits=N_FOLDS)\n",
    "X_trains, X_tests, y_trains, y_tests = [], [], [], []\n",
    "train_indices, test_indices = [], []\n",
    "for train_index, test_index in kf.split(X, y):\n",
    "    if X.shape[0] <= 1000:  # 80%(tr) - 20%(te)\n",
    "        X_trains.append(X[train_index])\n",
    "        y_trains.append(y[train_index])\n",
    "        X_tests.append(X[test_index])\n",
    "        y_tests.append(y[test_index])\n",
    "    else:  # 700(tr) - remaining(te)\n",
    "        # X_trains.append(X[train_index[:len(train_index)//2]])\n",
    "        kk = StratifiedShuffleSplit(n_splits=2, train_size=800, random_state=0)\n",
    "        for tr_i, te_i in kk.split(X[train_index], y[train_index]):\n",
    "            X_trains.append(X[train_index[tr_i]])\n",
    "            y_trains.append(y[train_index[tr_i]])\n",
    "            X_tests.append(X[np.concatenate((train_index[te_i], test_index))])\n",
    "            y_tests.append(y[np.concatenate((train_index[te_i], test_index))])\n",
    "            break\n",
    "#X_train, X_test, y_train, y_test = train_test_split(X, y, test_size=0.2, random_state=0)\n",
    "k = 1\n",
    "X_train, X_test, y_train, y_test = X_trains[k], X_tests[k], y_trains[k], y_tests[k]\n",
    "\n",
    "def plot_cdf(clf):\n",
    "    print(\"train_score :\", accuracy_score(y_train, clf.predict(X_train)))\n",
    "    print(\"n_trees :\", len(clf.estimators_))\n",
    "    print(\"test_score :\", accuracy_score(y_test, clf.predict(X_test)))\n",
    "    \n",
    "    sw = sum(clf.estimator_weights_)\n",
    "\n",
    "    pred = np.array([-clf.estimator_weights_[0]/sw if p != y_train[i] else clf.estimator_weights_[0]/sw for i, p in enumerate(clf.estimators_[0].predict(X_train))])\n",
    "    margin = pred.reshape((-1, 1))\n",
    "\n",
    "    for i in range(1, len(clf.estimators_)):\n",
    "        pred = np.array([-clf.estimator_weights_[i]/sw if p != y_train[j] else clf.estimator_weights_[i]/sw for j, p in enumerate(clf.estimators_[i].predict(X_train))])\n",
    "        margin = np.concatenate((margin, pred.reshape(-1, 1)), axis=1)\n",
    "\n",
    "    margins = np.sum(margin, axis=1)\n",
    "    #plt.hist(marginss, bins='auto')\n",
    "    #print(stats.describe(marginss))\n",
    "    #hx, hy = np.histogram(margins, bins='auto')\n",
    "    #dx = hy[1] - hy[0]\n",
    "    #F1 = np.cumsum(hx)*dx\n",
    "    #plt.plot(hy[1:], F1/sum(F1))\n",
    "    \n",
    "    values, base = np.histogram(margins, bins='auto', density=True)\n",
    "    dx = base[1] - base[0]\n",
    "    #evaluate the cumulative\n",
    "    cumulative = np.cumsum(values) * dx\n",
    "    # plot the cumulative function\n",
    "    plt.plot(base[1:], cumulative, c='blue')\n",
    "    print(\"Margins description :\", stats.describe(margins))\n",
    "\n",
    "max_iter = 27\n",
    "\n",
    "#np.histogram(margins)\n",
    "\n",
    "#X2 = np.sort(marginss)\n",
    "#F2 = np.array(range(len(marginss)))/float(len(marginss))\n",
    "#F2 = 1. * np.arange(len(marginss)) / (len(margins) - 1)\n",
    "#plt.plot(X2, F2)\n",
    "\n",
    "#from scipy.stats import norm\n",
    "#x = np.linspace(-1,1,len(marginss))\n",
    "#y = norm.cdf(marginss)\n",
    "#plt.plot(marginss, y)\n",
    "\n",
    "#marginss = np.sum(margins[:,:2], axis=1)\n",
    "#plt.hist(marginss, bins='auto')\n",
    "#print(stats.describe(marginss))\n",
    "\n",
    "# audiology 80% - 20% random_state=0 regulator=10 n_trees=27 depth=2 lpboost_demiriz"
   ]
  },
  {
   "cell_type": "markdown",
   "metadata": {},
   "source": [
    "### Adaboost"
   ]
  },
  {
   "cell_type": "code",
   "execution_count": 63,
   "metadata": {},
   "outputs": [
    {
     "name": "stdout",
     "output_type": "stream",
     "text": [
      "train_score : 1.0\n",
      "n_trees : 30\n",
      "test_score : 0.927007299270073\n",
      "Margins description : DescribeResult(nobs=546, minmax=(-0.33333333333333337, 0.6), mean=0.0962148962148962, variance=0.02412835822010134, skewness=-0.02028140070827574, kurtosis=-0.20548030108999304)\n"
     ]
    },
    {
     "data": {
      "image/png": "[encoded data removed]",
      "text/plain": [
       "<Figure size 432x288 with 1 Axes>"
      ]
     },
     "metadata": {
      "needs_background": "light"
     },
     "output_type": "display_data"
    }
   ],
   "source": [
    "clf = AdaBoostClassifier(base_estimator=DecisionTreeClassifier(max_depth=depth), n_estimators=30)\n",
    "clf.fit(X_train, y_train)\n",
    "plot_cdf(clf)"
   ]
  },
  {
   "cell_type": "markdown",
   "metadata": {},
   "source": [
    "### AdaDL85"
   ]
  },
  {
   "cell_type": "code",
   "execution_count": 44,
   "metadata": {},
   "outputs": [
    {
     "name": "stdout",
     "output_type": "stream",
     "text": [
      "train_score : 0.9233716475095786\n",
      "n_trees : 10\n",
      "test_score : 0.6412213740458015\n",
      "Margins description : DescribeResult(nobs=522, minmax=(-0.8, 1.0), mean=-0.31417624521072796, variance=0.26286966561504915, skewness=1.1158834933065402, kurtosis=-0.2257354631685735)\n"
     ]
    },
    {
     "data": {
      "image/png": "[encoded data removed]",
      "text/plain": [
       "<Figure size 432x288 with 1 Axes>"
      ]
     },
     "metadata": {
      "needs_background": "light"
     },
     "output_type": "display_data"
    }
   ],
   "source": [
    "clf = AdaBoostClassifier(base_estimator=DL85Classifier(max_depth=depth), n_estimators=10)\n",
    "clf.fit(X_train, y_train)\n",
    "plot_cdf(clf)"
   ]
  },
  {
   "cell_type": "markdown",
   "metadata": {},
   "source": [
    "### OptiBoost"
   ]
  },
  {
   "cell_type": "code",
   "execution_count": 66,
   "metadata": {},
   "outputs": [
    {
     "name": "stdout",
     "output_type": "stream",
     "text": [
      "train_score : 0.46096654275092935\n",
      "n_trees : 10\n",
      "test_score : 0.5373134328358209\n",
      "Margins description : DescribeResult(nobs=269, minmax=(-1.609823385706478e-15, 1.609823385706478e-15), mean=-6.211470825505067e-17, variance=9.495144304849164e-31, skewness=0.06198052336870341, kurtosis=-1.2173344807331337)\n"
     ]
    },
    {
     "data": {
      "image/png": "[encoded data removed]",
      "text/plain": [
       "<Figure size 432x288 with 1 Axes>"
      ]
     },
     "metadata": {
      "needs_background": "light"
     },
     "output_type": "display_data"
    }
   ],
   "source": [
    "clf = DL85Booster(max_depth=depth, regulator=.5, model=MODEL_AGLIN)\n",
    "clf.fit(X_train, y_train)\n",
    "plot_cdf(clf)"
   ]
  },
  {
   "cell_type": "markdown",
   "metadata": {},
   "source": [
    "### MDBoost"
   ]
  },
  {
   "cell_type": "code",
   "execution_count": 22,
   "metadata": {},
   "outputs": [
    {
     "name": "stdout",
     "output_type": "stream",
     "text": [
      "train_score : 0.9883720930232558\n",
      "n_trees : 48\n",
      "test_score : 0.9545454545454546\n",
      "Margins description : DescribeResult(nobs=172, minmax=(-0.01484195876526534, 0.326690701060031), mean=0.14025010463377846, variance=0.0024160591936788866, skewness=-0.2613194653870319, kurtosis=1.654405088429808)\n"
     ]
    },
    {
     "data": {
      "image/png": "[encoded data removed]",
      "text/plain": [
       "<Figure size 432x288 with 1 Axes>"
      ]
     },
     "metadata": {
      "needs_background": "light"
     },
     "output_type": "display_data"
    }
   ],
   "source": [
    "clf = DL85Boostera(max_depth=depth, regulator=50)\n",
    "clf.fit(X_train, y_train)\n",
    "plot_cdf(clf)"
   ]
  },
  {
   "cell_type": "markdown",
   "metadata": {},
   "source": [
    "### LPBoost DEMIRIZ"
   ]
  },
  {
   "cell_type": "code",
   "execution_count": 68,
   "metadata": {},
   "outputs": [
    {
     "name": "stdout",
     "output_type": "stream",
     "text": [
      "train_score : 0.9591078066914498\n",
      "n_trees : 68\n",
      "test_score : 0.6865671641791045\n",
      "Margins description : DescribeResult(nobs=269, minmax=(-0.030879804431962483, 0.3890209894773262), mean=0.0922040935531392, variance=0.00787600022801686, skewness=1.3753613110411504, kurtosis=1.5614713906216302)\n"
     ]
    },
    {
     "data": {
      "image/png": "[encoded data removed]",
      "text/plain": [
       "<Figure size 432x288 with 1 Axes>"
      ]
     },
     "metadata": {
      "needs_background": "light"
     },
     "output_type": "display_data"
    }
   ],
   "source": [
    "clf = DL85Booster(max_depth=depth, regulator=10, model=MODEL_DEMIRIZ)\n",
    "clf.fit(X_train, y_train)\n",
    "plot_cdf(clf)"
   ]
  },
  {
   "cell_type": "markdown",
   "metadata": {},
   "source": [
    "### LPBoost RATSCH"
   ]
  },
  {
   "cell_type": "code",
   "execution_count": 70,
   "metadata": {},
   "outputs": [
    {
     "name": "stdout",
     "output_type": "stream",
     "text": [
      "train_score : 0.26022304832713755\n",
      "n_trees : 4\n",
      "test_score : 0.34328358208955223\n",
      "Margins description : DescribeResult(nobs=269, minmax=(0.0, 0.0), mean=0.0, variance=0.0, skewness=0.0, kurtosis=-3.0)\n"
     ]
    },
    {
     "data": {
      "image/png": "[encoded data removed]",
      "text/plain": [
       "<Figure size 432x288 with 1 Axes>"
      ]
     },
     "metadata": {
      "needs_background": "light"
     },
     "output_type": "display_data"
    }
   ],
   "source": [
    "clf = DL85Booster(max_depth=depth, regulator=0.6, model=MODEL_RATSCH)\n",
    "clf.fit(X_train, y_train)\n",
    "plot_cdf(clf)"
   ]
  },
  {
   "cell_type": "code",
   "execution_count": 6,
   "metadata": {},
   "outputs": [
    {
     "name": "stdout",
     "output_type": "stream",
     "text": [
      "train_score : 0.9444444444444444\n",
      "test_score : 0.7022900763358778\n"
     ]
    },
    {
     "name": "stderr",
     "output_type": "stream",
     "text": [
      "/Library/Frameworks/Python.framework/Versions/3.6/lib/python3.6/site-packages/sklearn/linear_model/_logistic.py:765: ConvergenceWarning: lbfgs failed to converge (status=1):\n",
      "STOP: TOTAL NO. of ITERATIONS REACHED LIMIT.\n",
      "\n",
      "Increase the number of iterations (max_iter) or scale the data as shown in:\n",
      "    https://scikit-learn.org/stable/modules/preprocessing.html\n",
      "Please also refer to the documentation for alternative solver options:\n",
      "    https://scikit-learn.org/stable/modules/linear_model.html#logistic-regression\n",
      "  extra_warning_msg=_LOGISTIC_SOLVER_CONVERGENCE_MSG)\n"
     ]
    }
   ],
   "source": [
    "from sklearn.linear_model import LogisticRegression\n",
    "logisticRegr = LogisticRegression()\n",
    "logisticRegr.fit(X_train, y_train)\n",
    "print(\"train_score :\", accuracy_score(y_train, logisticRegr.predict(X_train)))\n",
    "print(\"test_score :\", accuracy_score(y_test, logisticRegr.predict(X_test)))"
   ]
  },
  {
   "cell_type": "code",
   "execution_count": 7,
   "metadata": {},
   "outputs": [
    {
     "name": "stderr",
     "output_type": "stream",
     "text": [
      "/Library/Frameworks/Python.framework/Versions/3.6/lib/python3.6/site-packages/sklearn/svm/_base.py:986: ConvergenceWarning: Liblinear failed to converge, increase the number of iterations.\n",
      "  \"the number of iterations.\", ConvergenceWarning)\n",
      "/Library/Frameworks/Python.framework/Versions/3.6/lib/python3.6/site-packages/sklearn/svm/_base.py:986: ConvergenceWarning: Liblinear failed to converge, increase the number of iterations.\n",
      "  \"the number of iterations.\", ConvergenceWarning)\n",
      "/Library/Frameworks/Python.framework/Versions/3.6/lib/python3.6/site-packages/sklearn/svm/_base.py:986: ConvergenceWarning: Liblinear failed to converge, increase the number of iterations.\n",
      "  \"the number of iterations.\", ConvergenceWarning)\n",
      "/Library/Frameworks/Python.framework/Versions/3.6/lib/python3.6/site-packages/sklearn/svm/_base.py:986: ConvergenceWarning: Liblinear failed to converge, increase the number of iterations.\n",
      "  \"the number of iterations.\", ConvergenceWarning)\n",
      "/Library/Frameworks/Python.framework/Versions/3.6/lib/python3.6/site-packages/sklearn/svm/_base.py:986: ConvergenceWarning: Liblinear failed to converge, increase the number of iterations.\n",
      "  \"the number of iterations.\", ConvergenceWarning)\n",
      "/Library/Frameworks/Python.framework/Versions/3.6/lib/python3.6/site-packages/sklearn/svm/_base.py:986: ConvergenceWarning: Liblinear failed to converge, increase the number of iterations.\n",
      "  \"the number of iterations.\", ConvergenceWarning)\n",
      "/Library/Frameworks/Python.framework/Versions/3.6/lib/python3.6/site-packages/sklearn/svm/_base.py:986: ConvergenceWarning: Liblinear failed to converge, increase the number of iterations.\n",
      "  \"the number of iterations.\", ConvergenceWarning)\n",
      "/Library/Frameworks/Python.framework/Versions/3.6/lib/python3.6/site-packages/sklearn/svm/_base.py:986: ConvergenceWarning: Liblinear failed to converge, increase the number of iterations.\n",
      "  \"the number of iterations.\", ConvergenceWarning)\n"
     ]
    },
    {
     "name": "stdout",
     "output_type": "stream",
     "text": [
      "train_score : 0.9099616858237548\n",
      "n_trees : 9\n",
      "test_score : 0.732824427480916\n",
      "Margins description : DescribeResult(nobs=522, minmax=(-0.9999999999999999, 0.9999999999999999), mean=0.8199233716475094, variance=0.3283546966120266, skewness=-2.8644947804358902, kurtosis=6.205330347144455)\n"
     ]
    },
    {
     "name": "stderr",
     "output_type": "stream",
     "text": [
      "/Library/Frameworks/Python.framework/Versions/3.6/lib/python3.6/site-packages/sklearn/svm/_base.py:986: ConvergenceWarning: Liblinear failed to converge, increase the number of iterations.\n",
      "  \"the number of iterations.\", ConvergenceWarning)\n",
      "/Library/Frameworks/Python.framework/Versions/3.6/lib/python3.6/site-packages/ipykernel_launcher.py:64: VisibleDeprecationWarning: Passing `normed=True` on non-uniform bins has always been broken, and computes neither the probability density function nor the probability mass function. The result is only correct if the bins are uniform, when density=True will produce the same result anyway. The argument will be removed in a future version of numpy.\n"
     ]
    },
    {
     "data": {
      "image/png": "[encoded data removed]",
      "text/plain": [
       "<Figure size 432x288 with 1 Axes>"
      ]
     },
     "metadata": {
      "needs_background": "light"
     },
     "output_type": "display_data"
    }
   ],
   "source": [
    "clf = DL85Boostera(base_estimator=LogisticRegression(max_iter=5, solver='liblinear'), max_depth=depth, regulator=20)\n",
    "clf.fit(X_train, y_train)\n",
    "plot_cdf(clf)"
   ]
  },
  {
   "cell_type": "code",
   "execution_count": 81,
   "metadata": {},
   "outputs": [],
   "source": [
    "print(\"train_score :\", accuracy_score(y_train, clf.predict(X_train)))\n",
    "print(\"n_trees :\", len(clf.estimators_))\n",
    "print(\"test_score :\", accuracy_score(y_test, clf.predict(X_test)))"
   ]
  },
  {
   "cell_type": "code",
   "execution_count": 85,
   "metadata": {},
   "outputs": [
    {
     "data": {
      "text/plain": [
       "0.715"
      ]
     },
     "execution_count": 85,
     "metadata": {},
     "output_type": "execute_result"
    }
   ],
   "source": [
    "accuracy_score(y_train, clf.predict(X_train))"
   ]
  },
  {
   "cell_type": "code",
   "execution_count": 86,
   "metadata": {},
   "outputs": [
    {
     "data": {
      "text/plain": [
       "0.6"
      ]
     },
     "execution_count": 86,
     "metadata": {},
     "output_type": "execute_result"
    }
   ],
   "source": [
    "accuracy_score(y_test, clf.predict(X_test))"
   ]
  },
  {
   "cell_type": "code",
   "execution_count": 11,
   "metadata": {},
   "outputs": [
    {
     "name": "stdout",
     "output_type": "stream",
     "text": [
      "train_score : 0.9118773946360154\n",
      "n_trees : 9\n",
      "test_score : 0.7022900763358778\n",
      "Margins description : DescribeResult(nobs=522, minmax=(-1.0, 1.0), mean=0.8241805023414219, variance=0.19736399266382623, skewness=-2.8292635429154553, kurtosis=7.237314524447411)\n"
     ]
    },
    {
     "name": "stderr",
     "output_type": "stream",
     "text": [
      "/Library/Frameworks/Python.framework/Versions/3.6/lib/python3.6/site-packages/ipykernel_launcher.py:64: VisibleDeprecationWarning: Passing `normed=True` on non-uniform bins has always been broken, and computes neither the probability density function nor the probability mass function. The result is only correct if the bins are uniform, when density=True will produce the same result anyway. The argument will be removed in a future version of numpy.\n"
     ]
    },
    {
     "data": {
      "image/png": "[encoded data removed]",
      "text/plain": [
       "<Figure size 432x288 with 1 Axes>"
      ]
     },
     "metadata": {
      "needs_background": "light"
     },
     "output_type": "display_data"
    }
   ],
   "source": [
    "clf = AdaBoostClassifier(base_estimator=LogisticRegression(max_iter=100, solver='liblinear'), n_estimators=9)\n",
    "clf.fit(X_train, y_train)\n",
    "plot_cdf(clf)"
   ]
  },
  {
   "cell_type": "code",
   "execution_count": null,
   "metadata": {},
   "outputs": [],
   "source": []
  }
 ],
 "metadata": {
  "kernelspec": {
   "display_name": "Python 3",
   "language": "python",
   "name": "python3"
  },
  "language_info": {
   "codemirror_mode": {
    "name": "ipython",
    "version": 3
   },
   "file_extension": ".py",
   "mimetype": "text/x-python",
   "name": "python",
   "nbconvert_exporter": "python",
   "pygments_lexer": "ipython3",
   "version": "3.6.5"
  }
 },
 "nbformat": 4,
 "nbformat_minor": 4
}
