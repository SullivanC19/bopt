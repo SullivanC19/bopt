{
 "cells": [
  {
   "cell_type": "code",
   "execution_count": 26,
   "metadata": {},
   "outputs": [
    {
     "name": "stdout",
     "output_type": "stream",
     "text": [
      "Model building...\n"
     ]
    },
    {
     "data": {
      "text/plain": [
       "AdaBoostClassifier(algorithm='SAMME.R',\n",
       "                   base_estimator=DecisionTreeClassifier(ccp_alpha=0.0,\n",
       "                                                         class_weight=None,\n",
       "                                                         criterion='gini',\n",
       "                                                         max_depth=2,\n",
       "                                                         max_features=None,\n",
       "                                                         max_leaf_nodes=None,\n",
       "                                                         min_impurity_decrease=0.0,\n",
       "                                                         min_impurity_split=None,\n",
       "                                                         min_samples_leaf=1,\n",
       "                                                         min_samples_split=2,\n",
       "                                                         min_weight_fraction_leaf=0.0,\n",
       "                                                         presort='deprecated',\n",
       "                                                         random_state=None,\n",
       "                                                         splitter='best'),\n",
       "                   learning_rate=1.0, n_estimators=50, random_state=None)"
      ]
     },
     "execution_count": 26,
     "metadata": {},
     "output_type": "execute_result"
    }
   ],
   "source": [
    "from sklearn.svm import SVC\n",
    "from sklearn.datasets import load_iris, load_digits, fetch_openml\n",
    "from sklearn.model_selection import train_test_split, cross_validate, GridSearchCV, StratifiedKFold\n",
    "from sklearn.preprocessing import OneHotEncoder, OrdinalEncoder, LabelBinarizer, KBinsDiscretizer, Binarizer\n",
    "from sklearn.metrics import accuracy_score\n",
    "from sklearn.ensemble import AdaBoostClassifier, RandomForestClassifier, GradientBoostingClassifier\n",
    "from sklearn.tree import DecisionTreeClassifier, export_graphviz\n",
    "from sklearn.utils import check_random_state\n",
    "from dl85 import DL85Boostera\n",
    "import time\n",
    "import numpy as np\n",
    "from sklearn.metrics import confusion_matrix\n",
    "import subprocess\n",
    "\n",
    "depth, time_limit, N_FOLDS = 2, 0, 5\n",
    "\n",
    "# dataset = np.genfromtxt(\"../datasets/paper_test.txt\", delimiter=\" \")\n",
    "# dataset = np.genfromtxt(\"../datasets/zoo-1.txt\", delimiter=\" \")\n",
    "# dataset = np.genfromtxt(\"../datasets/kr-vs-kp.txt\", delimiter=\" \")\n",
    "dataset = np.genfromtxt(\"../datasets/tic-tac-toe.txt\", delimiter=\" \")\n",
    "X, y = dataset[:, 1:], dataset[:, 0]\n",
    "X_train, X_test, y_train, y_test = train_test_split(X, y, test_size=0.2, random_state=0)\n",
    "\n",
    "clf = AdaBoostClassifier(base_estimator=DecisionTreeClassifier(max_depth=depth), n_estimators=50)\n",
    "start = time.perf_counter()\n",
    "print(\"Model building...\")\n",
    "clf.fit(X_train, y_train)\n",
    "\n",
    "#np.histogram(margins)"
   ]
  },
  {
   "cell_type": "code",
   "execution_count": 60,
   "metadata": {},
   "outputs": [
    {
     "name": "stdout",
     "output_type": "stream",
     "text": [
      "DescribeResult(nobs=766, minmax=(-0.19999999999999998, 0.4000000000000001), mean=0.1283028720626632, variance=0.011967573508080344, skewness=-0.06042778993911322, kurtosis=-0.22044254468544722)\n"
     ]
    },
    {
     "name": "stderr",
     "output_type": "stream",
     "text": [
      "/Library/Frameworks/Python.framework/Versions/3.6/lib/python3.6/site-packages/ipykernel_launcher.py:20: VisibleDeprecationWarning: Passing `normed=True` on non-uniform bins has always been broken, and computes neither the probability density function nor the probability mass function. The result is only correct if the bins are uniform, when density=True will produce the same result anyway. The argument will be removed in a future version of numpy.\n"
     ]
    },
    {
     "data": {
      "image/png": "[encoded data removed]",
      "text/plain": [
       "<Figure size 432x288 with 1 Axes>"
      ]
     },
     "metadata": {
      "needs_background": "light"
     },
     "output_type": "display_data"
    }
   ],
   "source": [
    "import matplotlib.pyplot as plt\n",
    "from scipy import stats\n",
    "\n",
    "\n",
    "\n",
    "sw = sum(clf.estimator_weights_)\n",
    "\n",
    "pred = np.array([-clf.estimator_weights_[0]/sw if p != y_train[i] else clf.estimator_weights_[0]/sw for i, p in enumerate(clf.estimators_[0].predict(X_train))])\n",
    "margins = pred.reshape((-1, 1))\n",
    "\n",
    "for i in range(1, len(clf.estimators_)):\n",
    "    pred = np.array([-clf.estimator_weights_[i]/sw if p != y_train[j] else clf.estimator_weights_[i]/sw for j, p in enumerate(clf.estimators_[i].predict(X_train))])\n",
    "    margins = np.concatenate((margins, pred.reshape(-1, 1)), axis=1)\n",
    "\n",
    "marginss = np.sum(margins, axis=1)\n",
    "\n",
    "marginss = np.sum(margins, axis=1)\n",
    "#plt.hist(marginss, bins='auto')\n",
    "#print(stats.describe(marginss))\n",
    "hx, hy = np.histogram(marginss, bins='auto', normed=1)\n",
    "dx = hy[1] - hy[0]\n",
    "F1 = np.cumsum(hx)*dx\n",
    "plt.plot(hy[1:], F1)\n",
    "print(stats.describe(marginss))\n",
    "\n",
    "#X2 = np.sort(marginss)\n",
    "#F2 = np.array(range(len(marginss)))/float(len(marginss))\n",
    "#F2 = 1. * np.arange(len(marginss)) / (len(margins) - 1)\n",
    "#plt.plot(X2, F2)\n",
    "\n",
    "#from scipy.stats import norm\n",
    "#x = np.linspace(-1,1,len(marginss))\n",
    "#y = norm.cdf(marginss)\n",
    "#plt.plot(marginss, y)"
   ]
  },
  {
   "cell_type": "code",
   "execution_count": 36,
   "metadata": {},
   "outputs": [
    {
     "data": {
      "text/plain": [
       "[<matplotlib.lines.Line2D at 0x12598fba8>]"
      ]
     },
     "execution_count": 36,
     "metadata": {},
     "output_type": "execute_result"
    },
    {
     "data": {
      "image/png": "[encoded data removed]",
      "text/plain": [
       "<Figure size 432x288 with 1 Axes>"
      ]
     },
     "metadata": {
      "needs_background": "light"
     },
     "output_type": "display_data"
    }
   ],
   "source": [
    "plt.plot(hy[1:], F1)"
   ]
  },
  {
   "cell_type": "code",
   "execution_count": 16,
   "metadata": {},
   "outputs": [
    {
     "name": "stdout",
     "output_type": "stream",
     "text": [
      "DescribeResult(nobs=192, minmax=(-2.0, 2.0), mean=0.4479166666666667, variance=1.7878490401396159, skewness=-0.290109658706218, kurtosis=-0.797064615229707)\n"
     ]
    },
    {
     "data": {
      "image/png": "[encoded data removed]",
      "text/plain": [
       "<Figure size 432x288 with 1 Axes>"
      ]
     },
     "metadata": {
      "needs_background": "light"
     },
     "output_type": "display_data"
    }
   ],
   "source": [
    "import matplotlib.pyplot as plt\n",
    "from scipy import stats\n",
    "\n",
    "marginss = np.sum(margins[:,:2], axis=1)\n",
    "plt.hist(marginss, bins='auto')\n",
    "print(stats.describe(marginss))"
   ]
  },
  {
   "cell_type": "code",
   "execution_count": 28,
   "metadata": {},
   "outputs": [
    {
     "name": "stdout",
     "output_type": "stream",
     "text": [
      "Model building...\n"
     ]
    },
    {
     "data": {
      "text/plain": [
       "DL85Boostera(asc=False, base_estimator=None, desc=False, error_function=None,\n",
       "             fast_error_function=None, gamma=None, iterative=False, max_depth=2,\n",
       "             max_error=0, max_iterations=50, min_sup=1, model='cvxpy',\n",
       "             opti_gap=1e-05, print_output=False, quiet=True, regulator=5,\n",
       "             repeat_sort=False, stop_after_better=False, time_limit=0,\n",
       "             verbose=False)"
      ]
     },
     "execution_count": 28,
     "metadata": {},
     "output_type": "execute_result"
    }
   ],
   "source": [
    "from sklearn.svm import SVC\n",
    "from sklearn.datasets import load_iris, load_digits, fetch_openml\n",
    "from sklearn.model_selection import train_test_split, cross_validate, GridSearchCV, StratifiedKFold\n",
    "from sklearn.preprocessing import OneHotEncoder, OrdinalEncoder, LabelBinarizer, KBinsDiscretizer, Binarizer\n",
    "from sklearn.metrics import accuracy_score\n",
    "from sklearn.ensemble import AdaBoostClassifier, RandomForestClassifier, GradientBoostingClassifier\n",
    "from sklearn.tree import DecisionTreeClassifier, export_graphviz\n",
    "from sklearn.utils import check_random_state\n",
    "from dl85 import DL85Boostera\n",
    "import time\n",
    "import numpy as np\n",
    "from sklearn.metrics import confusion_matrix\n",
    "import subprocess\n",
    "\n",
    "depth, time_limit, N_FOLDS = 2, 0, 5\n",
    "\n",
    "# dataset = np.genfromtxt(\"../datasets/paper_test.txt\", delimiter=\" \")\n",
    "# dataset = np.genfromtxt(\"../datasets/zoo-1.txt\", delimiter=\" \")\n",
    "# dataset = np.genfromtxt(\"../datasets/kr-vs-kp.txt\", delimiter=\" \")\n",
    "dataset = np.genfromtxt(\"../datasets/tic-tac-toe.txt\", delimiter=\" \")\n",
    "X, y = dataset[:, 1:], dataset[:, 0]\n",
    "X_train, X_test, y_train, y_test = train_test_split(X, y, test_size=0.2, random_state=0)\n",
    "\n",
    "clf1 = DL85Boostera(max_depth=depth, max_iterations=50)\n",
    "start = time.perf_counter()\n",
    "print(\"Model building...\")\n",
    "clf1.fit(X_train, y_train)"
   ]
  },
  {
   "cell_type": "code",
   "execution_count": 61,
   "metadata": {},
   "outputs": [
    {
     "name": "stderr",
     "output_type": "stream",
     "text": [
      "/Library/Frameworks/Python.framework/Versions/3.6/lib/python3.6/site-packages/ipykernel_launcher.py:13: VisibleDeprecationWarning: Passing `normed=True` on non-uniform bins has always been broken, and computes neither the probability density function nor the probability mass function. The result is only correct if the bins are uniform, when density=True will produce the same result anyway. The argument will be removed in a future version of numpy.\n",
      "  del sys.path[0]\n"
     ]
    },
    {
     "name": "stdout",
     "output_type": "stream",
     "text": [
      "DescribeResult(nobs=766, minmax=(-0.22706942489476117, 0.6286075363685514), mean=0.20870882760621917, variance=0.020765194926594666, skewness=-0.19005682847838698, kurtosis=-0.2241130223084613)\n"
     ]
    },
    {
     "data": {
      "image/png": "[encoded data removed]",
      "text/plain": [
       "<Figure size 432x288 with 1 Axes>"
      ]
     },
     "metadata": {
      "needs_background": "light"
     },
     "output_type": "display_data"
    }
   ],
   "source": [
    "import matplotlib.pyplot as plt\n",
    "from scipy import stats\n",
    "\n",
    "sw = sum(clf1.estimator_weights_)\n",
    "margins = None\n",
    "\n",
    "for i in range(len(clf1.estimators_)):\n",
    "    pred = np.array([-clf1.estimator_weights_[i]/sw if p != y_train[j] else clf1.estimator_weights_[i]/sw for j, p in enumerate(clf1.estimators_[i].predict(X_train))])\n",
    "    margins = np.concatenate((margins, pred.reshape(-1, 1)), axis=1) if margins is not None else pred.reshape((-1, 1))\n",
    "\n",
    "marginss = np.sum(margins, axis=1)\n",
    "\n",
    "hx, hy = np.histogram(marginss, bins='auto', normed=1)\n",
    "dx = hy[1] - hy[0]\n",
    "F1 = np.cumsum(hx)*dx\n",
    "plt.plot(hy[1:], F1)\n",
    "print(stats.describe(marginss))\n",
    "\n",
    "#np.histogram(margins)\n",
    "#marginss = np.sum(margins, axis=1)\n",
    "#plt.hist(marginss, bins='auto')\n",
    "#print(stats.describe(marginss))"
   ]
  },
  {
   "cell_type": "code",
   "execution_count": 31,
   "metadata": {},
   "outputs": [
    {
     "name": "stdout",
     "output_type": "stream",
     "text": [
      "Model building...\n"
     ]
    },
    {
     "data": {
      "text/plain": [
       "DL85Boostera(asc=False, base_estimator=None, desc=False, error_function=None,\n",
       "             fast_error_function=None, gamma=None, iterative=False, max_depth=2,\n",
       "             max_error=0, max_iterations=50, min_sup=1, model='cvxpy',\n",
       "             opti_gap=1e-05, print_output=False, quiet=True, regulator=0.01,\n",
       "             repeat_sort=False, stop_after_better=False, time_limit=0,\n",
       "             verbose=False)"
      ]
     },
     "execution_count": 31,
     "metadata": {},
     "output_type": "execute_result"
    }
   ],
   "source": [
    "from sklearn.svm import SVC\n",
    "from sklearn.datasets import load_iris, load_digits, fetch_openml\n",
    "from sklearn.model_selection import train_test_split, cross_validate, GridSearchCV, StratifiedKFold\n",
    "from sklearn.preprocessing import OneHotEncoder, OrdinalEncoder, LabelBinarizer, KBinsDiscretizer, Binarizer\n",
    "from sklearn.metrics import accuracy_score\n",
    "from sklearn.ensemble import AdaBoostClassifier, RandomForestClassifier, GradientBoostingClassifier\n",
    "from sklearn.tree import DecisionTreeClassifier, export_graphviz\n",
    "from sklearn.utils import check_random_state\n",
    "from dl85 import DL85Boostera\n",
    "import time\n",
    "import numpy as np\n",
    "from sklearn.metrics import confusion_matrix\n",
    "import subprocess\n",
    "\n",
    "depth, time_limit, N_FOLDS = 2, 0, 5\n",
    "\n",
    "# dataset = np.genfromtxt(\"../datasets/paper_test.txt\", delimiter=\" \")\n",
    "# dataset = np.genfromtxt(\"../datasets/zoo-1.txt\", delimiter=\" \")\n",
    "# dataset = np.genfromtxt(\"../datasets/kr-vs-kp.txt\", delimiter=\" \")\n",
    "dataset = np.genfromtxt(\"../datasets/tic-tac-toe.txt\", delimiter=\" \")\n",
    "X, y = dataset[:, 1:], dataset[:, 0]\n",
    "X_train, X_test, y_train, y_test = train_test_split(X, y, test_size=0.2, random_state=0)\n",
    "\n",
    "clf2 = DL85Boostera(max_depth=depth, max_iterations=50, regulator=0.01)\n",
    "start = time.perf_counter()\n",
    "print(\"Model building...\")\n",
    "clf2.fit(X_train, y_train)"
   ]
  },
  {
   "cell_type": "code",
   "execution_count": 33,
   "metadata": {},
   "outputs": [
    {
     "name": "stdout",
     "output_type": "stream",
     "text": [
      "DescribeResult(nobs=766, minmax=(-1.0, 1.0), mean=0.45430809399477806, variance=0.7946415467840748, skewness=-1.0199491099324436, kurtosis=-0.9597038131480162)\n"
     ]
    },
    {
     "data": {
      "image/png": "[encoded data removed]",
      "text/plain": [
       "<Figure size 432x288 with 1 Axes>"
      ]
     },
     "metadata": {
      "needs_background": "light"
     },
     "output_type": "display_data"
    }
   ],
   "source": [
    "import matplotlib.pyplot as plt\n",
    "from scipy import stats\n",
    "\n",
    "pred = np.array([-clf2.estimator_weights_[0] if p != y_train[i] else clf2.estimator_weights_[0] for i, p in enumerate(clf2.estimators_[0].predict(X_train))])\n",
    "margins = pred.reshape((-1, 1))\n",
    "\n",
    "for i in range(1, len(clf2.estimators_)):\n",
    "    pred = np.array([-clf2.estimator_weights_[i] if p != y_train[j] else clf2.estimator_weights_[i] for j, p in enumerate(clf2.estimators_[i].predict(X_train))])\n",
    "    margins = np.concatenate((margins, pred.reshape(-1, 1)), axis=1)\n",
    "\n",
    "marginss = np.sum(margins, axis=1)\n",
    "\n",
    "#np.histogram(margins)\n",
    "marginss = np.sum(margins, axis=1)\n",
    "plt.hist(marginss, bins='auto')\n",
    "print(stats.describe(marginss))"
   ]
  },
  {
   "cell_type": "code",
   "execution_count": null,
   "metadata": {},
   "outputs": [],
   "source": []
  }
 ],
 "metadata": {
  "kernelspec": {
   "display_name": "Python 3",
   "language": "python",
   "name": "python3"
  },
  "language_info": {
   "codemirror_mode": {
    "name": "ipython",
    "version": 3
   },
   "file_extension": ".py",
   "mimetype": "text/x-python",
   "name": "python",
   "nbconvert_exporter": "python",
   "pygments_lexer": "ipython3",
   "version": "3.6.5"
  }
 },
 "nbformat": 4,
 "nbformat_minor": 4
}
