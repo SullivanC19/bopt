{
  "cells": [
    {
      "cell_type": "code",
      "execution_count": null,
      "metadata": {
        "collapsed": false
      },
      "outputs": [],
      "source": [
        "%matplotlib inline"
      ]
    },
    {
      "cell_type": "markdown",
      "metadata": {},
      "source": [
        "\n# Usage example of ODTClassifier\n\n\n\n"
      ]
    },
    {
      "cell_type": "code",
      "execution_count": null,
      "metadata": {
        "collapsed": false
      },
      "outputs": [],
      "source": [
        "import numpy as np\nimport sys\nsys.path.insert(0, \"../\")\nfrom dl85 import ODTClassifier\nfrom sklearn.metrics import confusion_matrix\nfrom sklearn.model_selection import train_test_split\nfrom sklearn.metrics import accuracy_score\nfrom sklearn.model_selection import KFold\nfrom sklearn.model_selection import cross_val_score\nfrom sklearn.tree import DecisionTreeClassifier\nimport time\n\ndataset = np.genfromtxt(\"../datasets/anneal.txt\", delimiter=' ')\nX = dataset[:, 1:]\ny = dataset[:, 0]\n\nX_train, X_test, y_train, y_test = train_test_split(X, y, test_size=0.2, random_state=0)\n\nprint(\"DL8.5\")\nclf1 = ODTClassifier(max_depth=2)\nstart = time.perf_counter()\nprint(\"Model building...\")\nclf1.fit(X_train, y_train)\nduration = time.perf_counter() - start\nprint(\"Duration of model building =\", duration)\ny_pred1 = clf1.predict(X_test)\nprint(confusion_matrix(y_test, y_pred1))\nscore1 = accuracy_score(y_test, y_pred1)\nprint(\"Accuracy DL8.5 on test set =\", score1, \"\\n\")\n\n\nprint(\"DL8.5 iterative in python\")\nstart = time.perf_counter()\nerror = 0\nclf = None\nfor i in range(1, 4):\n    clf = ODTClassifier(max_depth=i, max_error=error)\n    clf.fit(X_train, y_train)\n    error = clf.error_\nduration = time.perf_counter() - start\nprint(\"Duration of model building =\", duration)\ny_pred1 = clf.predict(X_test)\nprint(confusion_matrix(y_test, y_pred1))\nscore1 = accuracy_score(y_test, y_pred1)\nprint(\"Accuracy DL8.5 on test set =\", score1, \"\\n\")\n\n\nprint(\"DL8.5 iterative in c++\")\nclf1 = ODTClassifier(max_depth=3, iterative=True)\nstart = time.perf_counter()\nprint(\"Model building...\")\nclf1.fit(X_train, y_train)\nduration = time.perf_counter() - start\nprint(\"Duration of model building =\", duration)\ny_pred1 = clf1.predict(X_test)\nprint(confusion_matrix(y_test, y_pred1))\nscore1 = accuracy_score(y_test, y_pred1)\nprint(\"Accuracy DL8.5 on test set =\", score1, \"\\n\")\n\n\nprint(\"Default DT\")\nclf2 = DecisionTreeClassifier(max_depth=3)\nstart = time.perf_counter()\nprint(\"Model building...\")\nclf2.fit(X_train, y_train)\nduration = time.perf_counter() - start\nprint(\"Duration of model building =\", duration)\ny_pred2 = clf2.predict(X_test)\nprint(confusion_matrix(y_test, y_pred2))\nscore2 = accuracy_score(y_test, y_pred2)\nprint(\"Accuracy default DT on test set =\", score2, \"\\n\")\n\n\nclf3 = ODTClassifier(max_depth=3)\nscores = cross_val_score(clf3, X, y, cv=5)\nprint(scores)\n\n\nclf4 = DecisionTreeClassifier(max_depth=3)\nscores = cross_val_score(clf4, X, y, cv=5)\nprint(scores)\n\n\nkf = KFold(n_splits=5, random_state=42, shuffle=True)\naccuracies = []\nfor train_index, test_index in kf.split(X):\n    data_train = X[train_index]\n    target_train = y[train_index]\n    data_test = X[test_index]\n    target_test = y[test_index]\n\n    clf = ODTClassifier()\n    clf.fit(data_train, target_train)\n\n    preds = clf.predict(data_test)\n\n    # accuracy for the current fold only\n    accuracy = accuracy_score(target_test,preds)\n    accuracies.append(accuracy)\n\n# this is the average accuracy over all folds\naverage_accuracy = np.mean(accuracies)\nprint(\"Average accuracy =\", average_accuracy)"
      ]
    }
  ],
  "metadata": {
    "kernelspec": {
      "display_name": "Python 3",
      "language": "python",
      "name": "python3"
    },
    "language_info": {
      "codemirror_mode": {
        "name": "ipython",
        "version": 3
      },
      "file_extension": ".py",
      "mimetype": "text/x-python",
      "name": "python",
      "nbconvert_exporter": "python",
      "pygments_lexer": "ipython3",
      "version": "3.6.5"
    }
  },
  "nbformat": 4,
  "nbformat_minor": 0
}